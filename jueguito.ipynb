{
 "cells": [
  {
   "cell_type": "code",
   "execution_count": 4,
   "id": "32ba459e-4410-422e-af38-8b942abc409e",
   "metadata": {},
   "outputs": [
    {
     "name": "stdin",
     "output_type": "stream",
     "text": [
      "¿Jugar? [Y/N]:  y\n"
     ]
    },
    {
     "name": "stdout",
     "output_type": "stream",
     "text": [
      "Elige tu Persona:\n",
      "1. Thanatos (ATK: 45, DEF: 41, SPATK: 49, VIDA: 100)\n",
      "2. Hellel (ATK: 56, DEF: 56, SPATK: 57, VIDA: 100)\n",
      "3. Jack Frost (ATK: 10, DEF: 12, SPATK: 14, VIDA: 100)\n"
     ]
    },
    {
     "name": "stdin",
     "output_type": "stream",
     "text": [
      "Elija su PERSONA (1-3):  1\n"
     ]
    },
    {
     "name": "stdout",
     "output_type": "stream",
     "text": [
      "Eligió a: Thanatos\n",
      "Thanatos: 100 HP\n",
      "Sombra 100 HP\n",
      "-----------------\n",
      "1. Atacar\n",
      "2. Defender\n",
      "3. Ataque especial\n",
      "------------------\n"
     ]
    },
    {
     "name": "stdin",
     "output_type": "stream",
     "text": [
      "Que quiere hacer?:  2\n"
     ]
    },
    {
     "name": "stdout",
     "output_type": "stream",
     "text": [
      "Te has defendido\n",
      "---EL ATAQUE FALLO---\n",
      "Thanatos: 100 HP\n",
      "Sombra 100 HP\n",
      "-----------------\n",
      "1. Atacar\n",
      "2. Defender\n",
      "3. Ataque especial\n",
      "------------------\n"
     ]
    },
    {
     "name": "stdin",
     "output_type": "stream",
     "text": [
      "Que quiere hacer?:  2\n"
     ]
    },
    {
     "name": "stdout",
     "output_type": "stream",
     "text": [
      "Te has defendido\n"
     ]
    }
   ],
   "source": [
    "import random\n",
    "\n",
    "class Atacar:\n",
    "    def ataque(self):\n",
    "        print(\"Hizo daño\")\n",
    "\n",
    "class Defender:\n",
    "    def defender(self):\n",
    "        print(\"Se defendió\")\n",
    "\n",
    "class AtaqueSp:\n",
    "    def ataqueSp(self):\n",
    "        print(\"Hizo un ataque especial\")\n",
    "\n",
    "class Persona(Atacar):\n",
    "    def __init__(self, nombre, atk, defensa, spatk, vida):\n",
    "        self.nombre = nombre\n",
    "        self.atk = atk\n",
    "        self.defensa = defensa\n",
    "        self.spatk = spatk\n",
    "        self.vida = vida\n",
    "\n",
    "class Sombra:\n",
    "    def __init__(self, atk, defensa, spatk, insta, vida):\n",
    "        self.atk = atk\n",
    "        self.defensa = defensa\n",
    "        self.spatk = spatk\n",
    "        self.insta = insta\n",
    "        self.vida = vida\n",
    "\n",
    "# Menú de juego\n",
    "eleccion = input(\"¿Jugar? [Y/N]: \").lower()\n",
    "\n",
    "if eleccion == 'y':\n",
    "    # Crear personajes\n",
    "    thanatos = Persona(\"Thanatos\", 45, 41, 49, 100)\n",
    "    hellel = Persona(\"Hellel\", 56, 56, 57, 100)\n",
    "    jack_frost = Persona(\"Jack Frost\", 10, 12, 14, 100)\n",
    "\n",
    "    sombra = Sombra(40, 50, 35, 999, 100)\n",
    "\n",
    "    # Lista de personajes\n",
    "    personas = [thanatos, hellel, jack_frost]\n",
    "\n",
    "    # Mostrar opciones\n",
    "    print(\"Elige tu Persona:\")\n",
    "    for i, p in enumerate(personas):\n",
    "        print(f\"{i+1}. {p.nombre} (ATK: {p.atk}, DEF: {p.defensa}, SPATK: {p.spatk}, VIDA: {p.vida})\")\n",
    "        \n",
    "    eleccionP = int(input(\"Elija su PERSONA (1-3): \")) - 1  # Restamos 1 para acceder correctamente al índice\n",
    "\n",
    "    if 0 <= eleccionP < len(personas):\n",
    "        persona_seleccionada = personas[eleccionP]\n",
    "        print(f\"Eligió a: {persona_seleccionada.nombre}\")\n",
    "    else:\n",
    "        print(\"Selección inválida.\")\n",
    "\n",
    "\n",
    "    while persona_seleccionada.vida > 0 and sombra.vida > 0:\n",
    "        print(f\"{persona_seleccionada.nombre}: {persona_seleccionada.vida} HP\")\n",
    "        print(f\"Sombra {sombra.vida} HP\")\n",
    "        print(\"-----------------\")\n",
    "        print(\"1. Atacar\")\n",
    "        print(\"2. Defender\")\n",
    "        print(\"3. Ataque especial\")\n",
    "        print(\"------------------\")\n",
    "\n",
    "        ataque_defendido = persona_seleccionada.defensa * .1\n",
    "\n",
    "        accion = int(input(\"Que quiere hacer?: \"))\n",
    "        if accion == 1:\n",
    "            if random.randint(0,1) < 0.5:\n",
    "                print(\"---EL ATAQUE FALLO---\")\n",
    "            else:\n",
    "                sombra.vida -= persona_seleccionada.atk * .1\n",
    "                persona_seleccionada.vida -= sombra.atk * .1\n",
    "\n",
    "        if accion == 2:\n",
    "            print(\"Te has defendido\")\n",
    "            if random.randint(0,1) < 0.5:\n",
    "                print(\"---EL ATAQUE FALLO---\")\n",
    "            else:\n",
    "                persona_seleccionada.vida -= sombra.atk * ataque_defendido\n",
    "\n",
    "\n",
    "        if accion == 3:\n",
    "            \n",
    "            \n"
   ]
  },
  {
   "cell_type": "code",
   "execution_count": null,
   "id": "a8cc4052-6a8a-4271-a66d-3599d2a60641",
   "metadata": {},
   "outputs": [],
   "source": []
  }
 ],
 "metadata": {
  "kernelspec": {
   "display_name": "Python 3 (ipykernel)",
   "language": "python",
   "name": "python3"
  },
  "language_info": {
   "codemirror_mode": {
    "name": "ipython",
    "version": 3
   },
   "file_extension": ".py",
   "mimetype": "text/x-python",
   "name": "python",
   "nbconvert_exporter": "python",
   "pygments_lexer": "ipython3",
   "version": "3.13.0"
  }
 },
 "nbformat": 4,
 "nbformat_minor": 5
}
